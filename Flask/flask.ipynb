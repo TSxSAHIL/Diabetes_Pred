{
 "cells": [
  {
   "cell_type": "code",
   "execution_count": 1,
   "metadata": {},
   "outputs": [],
   "source": [
    "from flask import Flask, request, jsonify\n",
    "import pickle\n",
    "from flask_ngrok import run_with_ngrok\n",
    "import pandas as pd"
   ]
  },
  {
   "cell_type": "code",
   "execution_count": 2,
   "metadata": {},
   "outputs": [],
   "source": [
    "diabetes = pickle.load(open(\"diabetes_model.pkl\",'rb'))\n"
   ]
  },
  {
   "cell_type": "code",
   "execution_count": 3,
   "metadata": {},
   "outputs": [],
   "source": [
    "app = Flask(__name__)\n",
    "run_with_ngrok(app)"
   ]
  },
  {
   "cell_type": "code",
   "execution_count": 4,
   "metadata": {},
   "outputs": [],
   "source": [
    "@app.route('/mrs' , methods=['POST'])\n",
    "def diabetes_prediction():\n",
    "    # Get the input data from the request\n",
    "    input_data = request.get_json()\n",
    "\n",
    "    # Extract the input values from the data\n",
    "    pregnancies = int(input_data['pregnancies'])\n",
    "    glucose = int(input_data['glucose'])\n",
    "    blood_pressure = int(input_data['blood_pressure'])\n",
    "    skin_thickness = int(input_data['skin_thickness'])\n",
    "    insulin = int(input_data['insulin'])\n",
    "    bmi = float(input_data['bmi'])\n",
    "    diabetes_pedigree_function = float(input_data['diabetes_pedigree_function'])\n",
    "    age = int(input_data['age'])\n",
    "\n",
    "    # Create a numpy array with the input values\n",
    "    input_data = np.array([[pregnancies, glucose, blood_pressure, skin_thickness, insulin, bmi, diabetes_pedigree_function, age]])\n",
    "\n",
    "    # Reshape the input data to match the expected shape of the model\n",
    "    input_data_reshaped = input_data.reshape(1,-1)\n",
    "\n",
    "    # Make the prediction using the loaded model\n",
    "    prediction = model.predict(input_data_reshaped)\n",
    "\n",
    "    # Return the predicted outcome as a JSON response\n",
    "    if (prediction[0] == 0):\n",
    "        return jsonify({'prediction': 'Diabetes Negative'})\n",
    "    else:\n",
    "        return jsonify({'prediction': 'Diabetes Positive'})"
   ]
  },
  {
   "cell_type": "code",
   "execution_count": 6,
   "metadata": {},
   "outputs": [
    {
     "name": "stdout",
     "output_type": "stream",
     "text": [
      " * Serving Flask app '__main__'\n",
      " * Debug mode: off\n"
     ]
    },
    {
     "name": "stderr",
     "output_type": "stream",
     "text": [
      "WARNING: This is a development server. Do not use it in a production deployment. Use a production WSGI server instead.\n",
      " * Running on http://127.0.0.1:5000\n",
      "Press CTRL+C to quit\n",
      "Exception in thread Thread-4:\n",
      "Traceback (most recent call last):\n",
      "  File \"c:\\Users\\Sahil Arora\\AppData\\Local\\Programs\\Python\\Python310\\lib\\threading.py\", line 1016, in _bootstrap_inner\n",
      "    self.run()\n",
      "  File \"c:\\Users\\Sahil Arora\\AppData\\Local\\Programs\\Python\\Python310\\lib\\threading.py\", line 1378, in run\n",
      "    self.function(*self.args, **self.kwargs)\n",
      "  File \"c:\\Users\\Sahil Arora\\AppData\\Local\\Programs\\Python\\Python310\\lib\\site-packages\\flask_ngrok.py\", line 70, in start_ngrok\n",
      "    ngrok_address = _run_ngrok()\n",
      "  File \"c:\\Users\\Sahil Arora\\AppData\\Local\\Programs\\Python\\Python310\\lib\\site-packages\\flask_ngrok.py\", line 38, in _run_ngrok\n",
      "    tunnel_url = j['tunnels'][0]['public_url']  # Do the parsing of the get\n",
      "IndexError: list index out of range\n"
     ]
    }
   ],
   "source": [
    "if __name__ == '__main__':\n",
    "    app.run()"
   ]
  }
 ],
 "metadata": {
  "kernelspec": {
   "display_name": "Python 3",
   "language": "python",
   "name": "python3"
  },
  "language_info": {
   "codemirror_mode": {
    "name": "ipython",
    "version": 3
   },
   "file_extension": ".py",
   "mimetype": "text/x-python",
   "name": "python",
   "nbconvert_exporter": "python",
   "pygments_lexer": "ipython3",
   "version": "3.10.5"
  },
  "orig_nbformat": 4
 },
 "nbformat": 4,
 "nbformat_minor": 2
}
